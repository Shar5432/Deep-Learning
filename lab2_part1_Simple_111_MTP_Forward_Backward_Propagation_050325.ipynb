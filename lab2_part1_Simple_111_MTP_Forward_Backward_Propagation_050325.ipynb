{
  "nbformat": 4,
  "nbformat_minor": 0,
  "metadata": {
    "colab": {
      "provenance": []
    },
    "kernelspec": {
      "name": "python3",
      "display_name": "Python 3"
    },
    "language_info": {
      "name": "python"
    }
  },
  "cells": [
    {
      "cell_type": "code",
      "execution_count": 1,
      "metadata": {
        "id": "-xN456FJifKc"
      },
      "outputs": [],
      "source": [
        "import numpy as np\n",
        "import matplotlib.pyplot as plt"
      ]
    },
    {
      "cell_type": "code",
      "source": [
        "# Given values\n",
        "A1 = np.array([[0.10]])\n",
        "W2 = np.array([[0.20]])\n",
        "W3 = np.array([[0.30]])\n",
        "b2 = np.array([[0.0]])\n",
        "b3 = np.array([[0.0]])\n",
        "R = np.array([[0.01]])\n",
        "\n",
        "# Learning rate\n",
        "alpha = 0.5"
      ],
      "metadata": {
        "id": "LlcJ9PUmikFz"
      },
      "execution_count": 2,
      "outputs": []
    },
    {
      "cell_type": "code",
      "source": [
        "# Sigmoid activation function and its derivative\n",
        "def sigmoid(x):\n",
        "    return 1 / (1 + np.exp(-x))\n",
        "\n",
        "def sigmoid_derivative(x):\n",
        "    return sigmoid(x) * (1 - sigmoid(x))"
      ],
      "metadata": {
        "id": "K2ojaeCcikXC"
      },
      "execution_count": 3,
      "outputs": []
    },
    {
      "cell_type": "code",
      "source": [
        "# Number of epochs\n",
        "epochs = 2\n",
        "\n",
        "# Initialize an array to store total errors\n",
        "errors = np.zeros(epochs)"
      ],
      "metadata": {
        "id": "5O0cmqELiklC"
      },
      "execution_count": 4,
      "outputs": []
    },
    {
      "cell_type": "code",
      "source": [
        "# Loop through epochs\n",
        "for epoch in range(epochs):\n",
        "    print(f\"\\nEpoch {epoch + 1}:\")\n",
        "\n",
        "    # Forward pass\n",
        "    Z2 = np.dot(W2, A1) + b2\n",
        "    A2 = sigmoid(Z2)\n",
        "\n",
        "    Z3 = np.dot(W3, A2) + b3\n",
        "    A3 = sigmoid(Z3)\n",
        "\n",
        "    # Print forward pass values\n",
        "    print(f\"Z2: {Z2}\")\n",
        "    print(f\"A2: {A2}\")\n",
        "    print(f\"Z3: {Z3}\")\n",
        "    print(f\"A3: {A3}\")\n",
        "    print(f\"W2: {W2}\")\n",
        "    print(f\"W3: {W3}\")\n",
        "    print(f\"b2: {b2}\")\n",
        "    print(f\"b3: {b3}\")\n",
        "\n",
        "    # Backpropagation\n",
        "    D3 = (A3 - R) * sigmoid_derivative(Z3)\n",
        "    D2 = np.dot(W3.T, D3) * sigmoid_derivative(Z2)\n",
        "\n",
        "    print(f\"D3: {D3}\")\n",
        "    print(f\"D2: {D2}\")\n",
        "\n",
        "    # Gradients\n",
        "    grad_W3 = np.dot(D3, A2.T)\n",
        "    grad_b3 = D3\n",
        "    grad_W2 = np.dot(D2, A1.T)\n",
        "    grad_b2 = D2\n",
        "\n",
        "    print(f\"grad_W3: {grad_W3}\")\n",
        "    print(f\"grad_b3: {grad_b3}\")\n",
        "    print(f\"grad_W2: {grad_W2}\")\n",
        "    print(f\"grad_b2: {grad_b2}\")\n",
        "\n",
        "    # Update weights and biases\n",
        "    W2 -= alpha * grad_W2\n",
        "    b2 -= alpha * grad_b2\n",
        "    W3 -= alpha * grad_W3\n",
        "    b3 -= alpha * grad_b3\n",
        "\n",
        "    # Store error\n",
        "    total_error = np.sum((A3 - R) ** 2)\n",
        "    errors[epoch] = total_error"
      ],
      "metadata": {
        "colab": {
          "base_uri": "https://localhost:8080/"
        },
        "id": "ZFI2BvmYik06",
        "outputId": "fe092a4d-caf5-4b90-cb45-9f4600515773"
      },
      "execution_count": 5,
      "outputs": [
        {
          "output_type": "stream",
          "name": "stdout",
          "text": [
            "\n",
            "Epoch 1:\n",
            "Z2: [[0.02]]\n",
            "A2: [[0.50499983]]\n",
            "Z3: [[0.15149995]]\n",
            "A3: [[0.53780271]]\n",
            "W2: [[0.2]]\n",
            "W3: [[0.3]]\n",
            "b2: [[0.]]\n",
            "b3: [[0.]]\n",
            "D3: [[0.13119642]]\n",
            "D2: [[0.00983875]]\n",
            "grad_W3: [[0.06625417]]\n",
            "grad_b3: [[0.13119642]]\n",
            "grad_W2: [[0.00098387]]\n",
            "grad_b2: [[0.00983875]]\n",
            "\n",
            "Epoch 2:\n",
            "Z2: [[0.01503143]]\n",
            "A2: [[0.50375779]]\n",
            "Z3: [[0.0688411]]\n",
            "A3: [[0.51720348]]\n",
            "W2: [[0.19950806]]\n",
            "W3: [[0.26687291]]\n",
            "b2: [[-0.00491937]]\n",
            "b3: [[-0.06559821]]\n",
            "D3: [[0.12665076]]\n",
            "D2: [[0.00844944]]\n",
            "grad_W3: [[0.06380131]]\n",
            "grad_b3: [[0.12665076]]\n",
            "grad_W2: [[0.00084494]]\n",
            "grad_b2: [[0.00844944]]\n"
          ]
        }
      ]
    }
  ]
}