{
  "nbformat": 4,
  "nbformat_minor": 0,
  "metadata": {
    "colab": {
      "provenance": []
    },
    "kernelspec": {
      "name": "python3",
      "display_name": "Python 3"
    },
    "language_info": {
      "name": "python"
    }
  },
  "cells": [
    {
      "cell_type": "code",
      "execution_count": 1,
      "metadata": {
        "id": "0pQoTsateOW5"
      },
      "outputs": [],
      "source": [
        "import tensorflow as tf\n",
        "import numpy as np"
      ]
    },
    {
      "cell_type": "code",
      "source": [
        "# Input tensor (3 sequences, 4 features)\n",
        "x = tf.constant([\n",
        "    [0.1, 0.2, 0.3, 0.4],\n",
        "    [0.5, 0.6, 0.7, 0.8],\n",
        "    [0.9, 1.0, 1.1, 1.2]\n",
        "], dtype=tf.float32)\n"
      ],
      "metadata": {
        "id": "LhiZNSIIyauu"
      },
      "execution_count": 2,
      "outputs": []
    },
    {
      "cell_type": "code",
      "source": [
        "# Projection matrices (from manual setup)\n",
        "W_Q = tf.constant([\n",
        "    [0.1, 0.2, 0.3],\n",
        "    [0.4, 0.5, 0.6],\n",
        "    [0.7, 0.8, 0.9],\n",
        "    [1.0, 1.1, 1.2]\n",
        "], dtype=tf.float32)\n",
        "\n",
        "W_K = W_Q  # Same weights for Keys\n",
        "\n",
        "W_V = tf.constant([\n",
        "    [0.1, 0.2],\n",
        "    [0.3, 0.4],\n",
        "    [0.5, 0.6],\n",
        "    [0.7, 0.8]\n",
        "], dtype=tf.float32)"
      ],
      "metadata": {
        "id": "J3Lea6qTybH9"
      },
      "execution_count": 3,
      "outputs": []
    },
    {
      "cell_type": "code",
      "source": [
        "# Compute Queries, Keys, and Values\n",
        "queries = tf.matmul(x, W_Q)\n",
        "keys = tf.matmul(x, W_K)\n",
        "values = tf.matmul(x, W_V)\n",
        "\n",
        "print(\"Queries Matrix:\\n\", queries)\n",
        "print(\"Keys Matrix:\\n\", keys)\n",
        "print(\"Values Matrix:\\n\", values)"
      ],
      "metadata": {
        "colab": {
          "base_uri": "https://localhost:8080/"
        },
        "id": "IMJSixvRyb8F",
        "outputId": "447968e6-a955-4c75-9d5a-3f18d5568ea4"
      },
      "execution_count": 4,
      "outputs": [
        {
          "output_type": "stream",
          "name": "stdout",
          "text": [
            "Queries Matrix:\n",
            " tf.Tensor(\n",
            "[[0.70000005 0.8000001  0.90000004]\n",
            " [1.5799999  1.8400002  2.1       ]\n",
            " [2.46       2.88       3.3000002 ]], shape=(3, 3), dtype=float32)\n",
            "Keys Matrix:\n",
            " tf.Tensor(\n",
            "[[0.70000005 0.8000001  0.90000004]\n",
            " [1.5799999  1.8400002  2.1       ]\n",
            " [2.46       2.88       3.3000002 ]], shape=(3, 3), dtype=float32)\n",
            "Values Matrix:\n",
            " tf.Tensor(\n",
            "[[0.5       0.6      ]\n",
            " [1.14      1.4000001]\n",
            " [1.78      2.2      ]], shape=(3, 2), dtype=float32)\n"
          ]
        }
      ]
    },
    {
      "cell_type": "code",
      "source": [
        "# Attention scores: Q * K^T\n",
        "scores = tf.matmul(queries, keys, transpose_b=True)\n",
        "print(\"Attention Scores Matrix:\\n\", scores)"
      ],
      "metadata": {
        "colab": {
          "base_uri": "https://localhost:8080/"
        },
        "id": "OIT-cSoQytTN",
        "outputId": "aa7398c9-6849-496c-c7a5-250a065e8881"
      },
      "execution_count": 5,
      "outputs": [
        {
          "output_type": "stream",
          "name": "stdout",
          "text": [
            "Attention Scores Matrix:\n",
            " tf.Tensor(\n",
            "[[ 1.9400002  4.4680004  6.996001 ]\n",
            " [ 4.4680004 10.292     16.116001 ]\n",
            " [ 6.996001  16.116001  25.236002 ]], shape=(3, 3), dtype=float32)\n"
          ]
        }
      ]
    },
    {
      "cell_type": "code",
      "source": [
        "# Scale scores (sqrt of dimension size, here sqrt(3))\n",
        "scaled = scores / tf.sqrt(3.0)\n",
        "print(\"Scaled Scores:\\n\", scaled)\n",
        "\n",
        "# Softmax to get attention weights\n",
        "weights = tf.nn.softmax(scaled, axis=-1)\n",
        "print(\"Attention Weights:\\n\", weights)\n",
        "\n",
        "# Final output: weighted sum of values\n",
        "context = tf.matmul(weights, values)\n",
        "print(\"Context vectors for each word:\\n\", context.numpy())\n"
      ],
      "metadata": {
        "colab": {
          "base_uri": "https://localhost:8080/"
        },
        "id": "IQpx_NJCy2nE",
        "outputId": "82107868-319f-48d0-8ee0-32acd5d72989"
      },
      "execution_count": 6,
      "outputs": [
        {
          "output_type": "stream",
          "name": "stdout",
          "text": [
            "Scaled Scores:\n",
            " tf.Tensor(\n",
            "[[ 1.1200596  2.5796013  4.039143 ]\n",
            " [ 2.5796013  5.942089   9.304578 ]\n",
            " [ 4.039143   9.304578  14.570013 ]], shape=(3, 3), dtype=float32)\n",
            "Attention Weights:\n",
            " tf.Tensor(\n",
            "[[4.1966923e-02 1.8062508e-01 7.7740800e-01]\n",
            " [1.1589993e-03 3.3449762e-02 9.6539128e-01]\n",
            " [2.6561420e-05 5.1404452e-03 9.9483299e-01]], shape=(3, 3), dtype=float32)\n",
            "Context vectors for each word:\n",
            " [[1.6106822 1.9883529]\n",
            " [1.7571087 2.171386 ]\n",
            " [1.776676  2.1958451]]\n"
          ]
        }
      ]
    }
  ]
}