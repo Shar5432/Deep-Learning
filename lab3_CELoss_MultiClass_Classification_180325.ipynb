{
  "nbformat": 4,
  "nbformat_minor": 0,
  "metadata": {
    "colab": {
      "provenance": []
    },
    "kernelspec": {
      "name": "python3",
      "display_name": "Python 3"
    },
    "language_info": {
      "name": "python"
    }
  },
  "cells": [
    {
      "cell_type": "code",
      "execution_count": 1,
      "metadata": {
        "id": "mWBUCRXHlNmW"
      },
      "outputs": [],
      "source": [
        "import numpy as np"
      ]
    },
    {
      "cell_type": "code",
      "source": [
        "# Ground truth labels (one-hot encoded)\n",
        "y_true = np.array([\n",
        "    [1, 0, 0],  # Sample 1: Class 1\n",
        "    [0, 1, 0],  # Sample 2: Class 2\n",
        "    [0, 0, 1],  # Sample 3: Class 3\n",
        "    [1, 0, 0],\n",
        "    [0, 1, 0]\n",
        "])\n",
        "\n",
        "# Model predictions (logits)\n",
        "logits = np.array([\n",
        "    [2.0, 1.0, 0.1],  # Sample 1\n",
        "    [0.5, 2.5, 0.2],  # Sample 2\n",
        "    [0.1, 0.2, 3.0],  # Sample 3\n",
        "    [0.3, 3.0, 1.5],  # Sample 4\n",
        "    [0.6, 2.5, 3.2]   # Sample 5\n",
        "])"
      ],
      "metadata": {
        "id": "pXIJ4c-rlOdD"
      },
      "execution_count": 2,
      "outputs": []
    },
    {
      "cell_type": "code",
      "source": [
        "# Softmax function\n",
        "def softmax(x):\n",
        "    exp_x = np.exp(x - np.max(x, axis=-1, keepdims=True))  # Numerical stability\n",
        "    return exp_x / np.sum(exp_x, axis=-1, keepdims=True)"
      ],
      "metadata": {
        "id": "5no32rONlOsS"
      },
      "execution_count": 3,
      "outputs": []
    },
    {
      "cell_type": "code",
      "source": [
        "probs = softmax(logits)\n",
        "print(\"Softmax Probabilities:\\n\", probs)"
      ],
      "metadata": {
        "colab": {
          "base_uri": "https://localhost:8080/"
        },
        "id": "wbvL3R2zlO9b",
        "outputId": "d3a350ea-9d12-4bc5-d690-5460f643b496"
      },
      "execution_count": 4,
      "outputs": [
        {
          "output_type": "stream",
          "name": "stdout",
          "text": [
            "Softmax Probabilities:\n",
            " [[0.65900114 0.24243297 0.09856589]\n",
            " [0.10953053 0.80932725 0.08114221]\n",
            " [0.04931133 0.05449744 0.89619123]\n",
            " [0.05208374 0.77499214 0.17292412]\n",
            " [0.04728215 0.31612343 0.63659442]]\n"
          ]
        }
      ]
    },
    {
      "cell_type": "code",
      "source": [
        "log_probs = np.log(probs)\n",
        "print(\"\\nLog of Softmax Probabilities:\\n\", log_probs)"
      ],
      "metadata": {
        "colab": {
          "base_uri": "https://localhost:8080/"
        },
        "id": "MrVU0na-lPJb",
        "outputId": "a73e3a66-d8a2-4440-8ef3-39c86f576a27"
      },
      "execution_count": 5,
      "outputs": [
        {
          "output_type": "stream",
          "name": "stdout",
          "text": [
            "\n",
            "Log of Softmax Probabilities:\n",
            " [[-0.41703002 -1.41703002 -2.31703002]\n",
            " [-2.21155193 -0.21155193 -2.51155193]\n",
            " [-3.00960146 -2.90960146 -0.10960146]\n",
            " [-2.9549024  -0.2549024  -1.7549024 ]\n",
            " [-3.05162253 -1.15162253 -0.45162253]]\n"
          ]
        }
      ]
    },
    {
      "cell_type": "code",
      "source": [
        "y_true_log_probs = y_true * log_probs\n",
        "print(\"\\ny_true * log(probs):\\n\", y_true_log_probs)"
      ],
      "metadata": {
        "colab": {
          "base_uri": "https://localhost:8080/"
        },
        "id": "lxQP_yDKllo7",
        "outputId": "d9db4355-2a6f-4b9f-d8ab-75965832826f"
      },
      "execution_count": 6,
      "outputs": [
        {
          "output_type": "stream",
          "name": "stdout",
          "text": [
            "\n",
            "y_true * log(probs):\n",
            " [[-0.41703002 -0.         -0.        ]\n",
            " [-0.         -0.21155193 -0.        ]\n",
            " [-0.         -0.         -0.10960146]\n",
            " [-2.9549024  -0.         -0.        ]\n",
            " [-0.         -1.15162253 -0.        ]]\n"
          ]
        }
      ]
    },
    {
      "cell_type": "code",
      "source": [
        "ce_loss = -np.sum(y_true_log_probs, axis=-1)\n",
        "print(\"\\nCE Loss per Sample:\", ce_loss)"
      ],
      "metadata": {
        "colab": {
          "base_uri": "https://localhost:8080/"
        },
        "id": "mkrJFCKelu77",
        "outputId": "c8942135-8115-4339-9a0f-8c000dc2e6cb"
      },
      "execution_count": 7,
      "outputs": [
        {
          "output_type": "stream",
          "name": "stdout",
          "text": [
            "\n",
            "CE Loss per Sample: [0.41703002 0.21155193 0.10960146 2.9549024  1.15162253]\n"
          ]
        }
      ]
    },
    {
      "cell_type": "code",
      "source": [
        "avg_ce_loss = np.mean(ce_loss)\n",
        "print(\"\\nAverage CE Loss for the Dataset:\", avg_ce_loss)"
      ],
      "metadata": {
        "colab": {
          "base_uri": "https://localhost:8080/"
        },
        "id": "3nknlXZJlx0D",
        "outputId": "39486641-9d29-4c89-d035-e43e9c3fab55"
      },
      "execution_count": 8,
      "outputs": [
        {
          "output_type": "stream",
          "name": "stdout",
          "text": [
            "\n",
            "Average CE Loss for the Dataset: 0.9689416668214669\n"
          ]
        }
      ]
    }
  ]
}