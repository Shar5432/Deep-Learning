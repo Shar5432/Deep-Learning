{
  "nbformat": 4,
  "nbformat_minor": 0,
  "metadata": {
    "colab": {
      "provenance": []
    },
    "kernelspec": {
      "name": "python3",
      "display_name": "Python 3"
    },
    "language_info": {
      "name": "python"
    }
  },
  "cells": [
    {
      "cell_type": "code",
      "execution_count": 1,
      "metadata": {
        "id": "25cRRqGjknTo"
      },
      "outputs": [],
      "source": [
        "import numpy as np\n",
        "import matplotlib.pyplot as plt"
      ]
    },
    {
      "cell_type": "code",
      "source": [
        "# Input values\n",
        "A1 = np.array([[0.05], [0.10]])\n",
        "\n",
        "# Weights and biases\n",
        "W2 = np.array([[0.15, 0.20], [0.25, 0.30]])\n",
        "W3 = np.array([[0.40, 0.45], [0.50, 0.55]])\n",
        "b2 = np.array([[0.35], [0.35]])\n",
        "b3 = np.array([[0.60], [0.60]])\n",
        "\n",
        "# Target outputs\n",
        "R = np.array([[0.01], [0.99]])\n",
        "\n",
        "# Learning rate\n",
        "alpha = 0.5"
      ],
      "metadata": {
        "id": "BSrRDO_LkpPL"
      },
      "execution_count": 2,
      "outputs": []
    },
    {
      "cell_type": "code",
      "source": [
        "def sigmoid(x):\n",
        "    return 1 / (1 + np.exp(-x))\n",
        "\n",
        "def sigmoid_derivative(x):\n",
        "    return sigmoid(x) * (1 - sigmoid(x))\n"
      ],
      "metadata": {
        "id": "d4LfgcJvkpc6"
      },
      "execution_count": 3,
      "outputs": []
    },
    {
      "cell_type": "code",
      "source": [
        "# Number of epochs\n",
        "epochs = 2\n",
        "\n",
        "# Error tracking\n",
        "errors = np.zeros(epochs)"
      ],
      "metadata": {
        "id": "Kw0sUba9kpur"
      },
      "execution_count": 4,
      "outputs": []
    },
    {
      "cell_type": "code",
      "source": [
        "for epoch in range(epochs):\n",
        "    # Forward pass\n",
        "    Z2 = np.dot(W2, A1) + b2\n",
        "    A2 = sigmoid(Z2)\n",
        "\n",
        "    Z3 = np.dot(W3, A2) + b3\n",
        "    A3 = sigmoid(Z3)\n",
        "\n",
        "    # Backpropagation\n",
        "    D3 = (A3 - R) * sigmoid_derivative(Z3)\n",
        "    D2 = np.dot(W3.T, D3) * sigmoid_derivative(Z2)\n",
        "\n",
        "    # Gradients\n",
        "    grad_W3 = np.dot(D3, A2.T)\n",
        "    grad_b3 = D3\n",
        "    grad_W2 = np.dot(D2, A1.T)\n",
        "    grad_b2 = D2\n",
        "\n",
        "    # Update weights and biases\n",
        "    W2 -= alpha * grad_W2\n",
        "    b2 -= alpha * grad_b2\n",
        "    W3 -= alpha * grad_W3\n",
        "    b3 -= alpha * grad_b3\n",
        "\n",
        "    # Compute and store error\n",
        "    total_error = np.sum((A3 - R) ** 2) / 2\n",
        "    errors[epoch] = total_error\n",
        "\n",
        "    # Print epoch details\n",
        "    print(f\"Epoch {epoch + 1}:\")\n",
        "    print(\"A2:\", A2)\n",
        "    print(\"A3:\", A3)\n",
        "    print(\"Z2:\", Z2)\n",
        "    print(\"Z3:\", Z3)\n",
        "    print(\"D2:\", D2)\n",
        "    print(\"D3:\", D3)\n",
        "    print(\"W2:\", W2)\n",
        "    print(\"W3:\", W3)\n",
        "    print(\"b2:\", b2)\n",
        "    print(\"b3:\", b3)\n",
        "    print(\"-\" * 40)"
      ],
      "metadata": {
        "colab": {
          "base_uri": "https://localhost:8080/"
        },
        "id": "QnWySrLnkqIy",
        "outputId": "67c3f1bb-2833-40f9-f3a8-d6ee13c3c48e"
      },
      "execution_count": 5,
      "outputs": [
        {
          "output_type": "stream",
          "name": "stdout",
          "text": [
            "Epoch 1:\n",
            "A2: [[0.59326999]\n",
            " [0.59688438]]\n",
            "A3: [[0.75136507]\n",
            " [0.77292847]]\n",
            "Z2: [[0.3775]\n",
            " [0.3925]]\n",
            "Z3: [[1.10590597]\n",
            " [1.2249214 ]]\n",
            "D2: [[0.00877135]\n",
            " [0.00995425]]\n",
            "D3: [[ 0.13849856]\n",
            " [-0.03809824]]\n",
            "W2: [[0.14978072 0.19956143]\n",
            " [0.24975114 0.29950229]]\n",
            "W3: [[0.35891648 0.40866619]\n",
            " [0.51130127 0.56137012]]\n",
            "b2: [[0.34561432]\n",
            " [0.34502287]]\n",
            "b3: [[0.53075072]\n",
            " [0.61904912]]\n",
            "----------------------------------------\n",
            "Epoch 2:\n",
            "A2: [[0.59219805]\n",
            " [0.59567126]]\n",
            "A3: [[0.72844176]\n",
            " [0.77837692]]\n",
            "Z2: [[0.3730595 ]\n",
            " [0.38746066]]\n",
            "Z3: [[0.98673106]\n",
            " [1.25623278]]\n",
            "D2: [[0.00781077]\n",
            " [0.00905231]]\n",
            "D3: [[ 0.1421181 ]\n",
            " [-0.03650631]]\n",
            "W2: [[0.14958545 0.19917089]\n",
            " [0.24952484 0.29904967]]\n",
            "W3: [[0.31683545 0.36633835]\n",
            " [0.52211075 0.572243  ]]\n",
            "b2: [[0.34170894]\n",
            " [0.34049672]]\n",
            "b3: [[0.45969167]\n",
            " [0.63730227]]\n",
            "----------------------------------------\n"
          ]
        }
      ]
    }
  ]
}